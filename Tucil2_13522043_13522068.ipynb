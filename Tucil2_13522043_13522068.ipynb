{
  "cells": [
    {
      "cell_type": "markdown",
      "metadata": {
        "id": "uSIWCqrYmFED"
      },
      "source": [
        "# IF3170 Artificial Intelligence | EDA Assignement"
      ]
    },
    {
      "cell_type": "markdown",
      "metadata": {
        "id": "h7GBlbj5mFEE"
      },
      "source": [
        "Group Number: 54\n",
        "\n",
        "Group Members:\n",
        "- Daniel Mulia Putra Manurung (13522043)\n",
        "- Adril Putra Merin (13522068)"
      ]
    },
    {
      "cell_type": "markdown",
      "metadata": {
        "id": "0h-OTlV0mFEE"
      },
      "source": [
        "## Import Libraries"
      ]
    },
    {
      "cell_type": "code",
      "execution_count": 1,
      "metadata": {
        "id": "6HiGhI10mFEE"
      },
      "outputs": [],
      "source": [
        "import pandas as pd\n",
        "import numpy as np\n",
        "import seaborn as sb"
      ]
    },
    {
      "cell_type": "markdown",
      "metadata": {
        "id": "ugTwxRyfmFEF"
      },
      "source": [
        "## Import Dataset"
      ]
    },
    {
      "cell_type": "code",
      "execution_count": 15,
      "metadata": {
        "colab": {
          "base_uri": "https://localhost:8080/",
          "height": 206
        },
        "id": "snidRLctv2KH",
        "outputId": "808956ea-d562-4f62-c1c0-55ef605e376d"
      },
      "outputs": [],
      "source": [
        "# Importing the Dataset\n",
        "\n",
        "# Import the metadata if needed\n",
        "# df_metadata = pd.read_csv('./dataset/UNSW-NB15_features-modified.csv')\n",
        "\n",
        "# Importing and merging the datra\n",
        "df_1 = pd.read_csv('./dataset/flow_features_train.csv')\n",
        "df_2 = pd.read_csv('./dataset/basic_features_train.csv')\n",
        "df_3 = pd.read_csv('./dataset/content_features_train.csv')\n",
        "df_4 = pd.read_csv('./dataset/time_features_train.csv')\n",
        "df_5 = pd.read_csv('./dataset/additional_features_train.csv')\n",
        "df_6 = pd.read_csv('./dataset/labels_train.csv')\n",
        "\n",
        "df = df_1.merge(df_2, on='id', how='outer') \\\n",
        "               .merge(df_3, on='id', how='outer') \\\n",
        "               .merge(df_4, on='id', how='outer') \\\n",
        "               .merge(df_5, on='id', how='outer') \\\n",
        "               .merge(df_6, on='id', how='outer')\n",
        "\n",
        "# Swap id and proto column\n",
        "cols = list(df.columns)\n",
        "idx1, idx2 = cols.index(\"proto\"), cols.index(\"id\")\n",
        "cols[idx1], cols[idx2] = cols[idx2], cols[idx1]\n",
        "df = df[cols]\n"
      ]
    },
    {
      "cell_type": "markdown",
      "metadata": {},
      "source": [
        "### Dataset Preview"
      ]
    },
    {
      "cell_type": "code",
      "execution_count": 17,
      "metadata": {
        "id": "7ZTuW8PemFEF"
      },
      "outputs": [
        {
          "data": {
            "text/html": [
              "<div>\n",
              "<style scoped>\n",
              "    .dataframe tbody tr th:only-of-type {\n",
              "        vertical-align: middle;\n",
              "    }\n",
              "\n",
              "    .dataframe tbody tr th {\n",
              "        vertical-align: top;\n",
              "    }\n",
              "\n",
              "    .dataframe thead th {\n",
              "        text-align: right;\n",
              "    }\n",
              "</style>\n",
              "<table border=\"1\" class=\"dataframe\">\n",
              "  <thead>\n",
              "    <tr style=\"text-align: right;\">\n",
              "      <th></th>\n",
              "      <th>id</th>\n",
              "      <th>proto</th>\n",
              "      <th>state</th>\n",
              "      <th>dur</th>\n",
              "      <th>sbytes</th>\n",
              "      <th>dbytes</th>\n",
              "      <th>sttl</th>\n",
              "      <th>dttl</th>\n",
              "      <th>sloss</th>\n",
              "      <th>dloss</th>\n",
              "      <th>...</th>\n",
              "      <th>ct_ftp_cmd</th>\n",
              "      <th>ct_srv_src</th>\n",
              "      <th>ct_srv_dst</th>\n",
              "      <th>ct_dst_ltm</th>\n",
              "      <th>ct_src_ltm</th>\n",
              "      <th>ct_src_dport_ltm</th>\n",
              "      <th>ct_dst_sport_ltm</th>\n",
              "      <th>ct_dst_src_ltm</th>\n",
              "      <th>attack_cat</th>\n",
              "      <th>label</th>\n",
              "    </tr>\n",
              "  </thead>\n",
              "  <tbody>\n",
              "    <tr>\n",
              "      <th>0</th>\n",
              "      <td>1</td>\n",
              "      <td>tcp</td>\n",
              "      <td>FIN</td>\n",
              "      <td>0.121478</td>\n",
              "      <td>258</td>\n",
              "      <td>172</td>\n",
              "      <td>252</td>\n",
              "      <td>254</td>\n",
              "      <td>0</td>\n",
              "      <td>0</td>\n",
              "      <td>...</td>\n",
              "      <td>0</td>\n",
              "      <td>1</td>\n",
              "      <td>1</td>\n",
              "      <td>1</td>\n",
              "      <td>1</td>\n",
              "      <td>1</td>\n",
              "      <td>1</td>\n",
              "      <td>1</td>\n",
              "      <td>Normal</td>\n",
              "      <td>0</td>\n",
              "    </tr>\n",
              "    <tr>\n",
              "      <th>1</th>\n",
              "      <td>2</td>\n",
              "      <td>tcp</td>\n",
              "      <td>FIN</td>\n",
              "      <td>0.649902</td>\n",
              "      <td>734</td>\n",
              "      <td>42014</td>\n",
              "      <td>62</td>\n",
              "      <td>252</td>\n",
              "      <td>2</td>\n",
              "      <td>17</td>\n",
              "      <td>...</td>\n",
              "      <td>0</td>\n",
              "      <td>43</td>\n",
              "      <td>6</td>\n",
              "      <td>1</td>\n",
              "      <td>1</td>\n",
              "      <td>1</td>\n",
              "      <td>1</td>\n",
              "      <td>2</td>\n",
              "      <td>Normal</td>\n",
              "      <td>0</td>\n",
              "    </tr>\n",
              "    <tr>\n",
              "      <th>2</th>\n",
              "      <td>3</td>\n",
              "      <td>tcp</td>\n",
              "      <td>FIN</td>\n",
              "      <td>1.623129</td>\n",
              "      <td>364</td>\n",
              "      <td>13186</td>\n",
              "      <td>62</td>\n",
              "      <td>252</td>\n",
              "      <td>1</td>\n",
              "      <td>6</td>\n",
              "      <td>...</td>\n",
              "      <td>0</td>\n",
              "      <td>7</td>\n",
              "      <td>6</td>\n",
              "      <td>2</td>\n",
              "      <td>2</td>\n",
              "      <td>1</td>\n",
              "      <td>1</td>\n",
              "      <td>3</td>\n",
              "      <td>Normal</td>\n",
              "      <td>0</td>\n",
              "    </tr>\n",
              "    <tr>\n",
              "      <th>3</th>\n",
              "      <td>4</td>\n",
              "      <td>tcp</td>\n",
              "      <td>FIN</td>\n",
              "      <td>1.681642</td>\n",
              "      <td>628</td>\n",
              "      <td>770</td>\n",
              "      <td>62</td>\n",
              "      <td>252</td>\n",
              "      <td>1</td>\n",
              "      <td>3</td>\n",
              "      <td>...</td>\n",
              "      <td>1</td>\n",
              "      <td>1</td>\n",
              "      <td>1</td>\n",
              "      <td>2</td>\n",
              "      <td>2</td>\n",
              "      <td>1</td>\n",
              "      <td>1</td>\n",
              "      <td>3</td>\n",
              "      <td>Normal</td>\n",
              "      <td>0</td>\n",
              "    </tr>\n",
              "    <tr>\n",
              "      <th>4</th>\n",
              "      <td>5</td>\n",
              "      <td>tcp</td>\n",
              "      <td>FIN</td>\n",
              "      <td>0.449454</td>\n",
              "      <td>534</td>\n",
              "      <td>268</td>\n",
              "      <td>254</td>\n",
              "      <td>252</td>\n",
              "      <td>2</td>\n",
              "      <td>1</td>\n",
              "      <td>...</td>\n",
              "      <td>0</td>\n",
              "      <td>43</td>\n",
              "      <td>39</td>\n",
              "      <td>2</td>\n",
              "      <td>2</td>\n",
              "      <td>2</td>\n",
              "      <td>1</td>\n",
              "      <td>40</td>\n",
              "      <td>Normal</td>\n",
              "      <td>0</td>\n",
              "    </tr>\n",
              "    <tr>\n",
              "      <th>...</th>\n",
              "      <td>...</td>\n",
              "      <td>...</td>\n",
              "      <td>...</td>\n",
              "      <td>...</td>\n",
              "      <td>...</td>\n",
              "      <td>...</td>\n",
              "      <td>...</td>\n",
              "      <td>...</td>\n",
              "      <td>...</td>\n",
              "      <td>...</td>\n",
              "      <td>...</td>\n",
              "      <td>...</td>\n",
              "      <td>...</td>\n",
              "      <td>...</td>\n",
              "      <td>...</td>\n",
              "      <td>...</td>\n",
              "      <td>...</td>\n",
              "      <td>...</td>\n",
              "      <td>...</td>\n",
              "      <td>...</td>\n",
              "      <td>...</td>\n",
              "    </tr>\n",
              "    <tr>\n",
              "      <th>175336</th>\n",
              "      <td>175337</td>\n",
              "      <td>udp</td>\n",
              "      <td>INT</td>\n",
              "      <td>0.000009</td>\n",
              "      <td>114</td>\n",
              "      <td>0</td>\n",
              "      <td>254</td>\n",
              "      <td>0</td>\n",
              "      <td>0</td>\n",
              "      <td>0</td>\n",
              "      <td>...</td>\n",
              "      <td>0</td>\n",
              "      <td>24</td>\n",
              "      <td>24</td>\n",
              "      <td>24</td>\n",
              "      <td>24</td>\n",
              "      <td>24</td>\n",
              "      <td>13</td>\n",
              "      <td>24</td>\n",
              "      <td>Generic</td>\n",
              "      <td>1</td>\n",
              "    </tr>\n",
              "    <tr>\n",
              "      <th>175337</th>\n",
              "      <td>175338</td>\n",
              "      <td>tcp</td>\n",
              "      <td>FIN</td>\n",
              "      <td>0.505762</td>\n",
              "      <td>620</td>\n",
              "      <td>354</td>\n",
              "      <td>254</td>\n",
              "      <td>252</td>\n",
              "      <td>2</td>\n",
              "      <td>1</td>\n",
              "      <td>...</td>\n",
              "      <td>0</td>\n",
              "      <td>1</td>\n",
              "      <td>1</td>\n",
              "      <td>1</td>\n",
              "      <td>1</td>\n",
              "      <td>1</td>\n",
              "      <td>1</td>\n",
              "      <td>2</td>\n",
              "      <td>Shellcode</td>\n",
              "      <td>1</td>\n",
              "    </tr>\n",
              "    <tr>\n",
              "      <th>175338</th>\n",
              "      <td>175339</td>\n",
              "      <td>udp</td>\n",
              "      <td>INT</td>\n",
              "      <td>0.000009</td>\n",
              "      <td>114</td>\n",
              "      <td>0</td>\n",
              "      <td>254</td>\n",
              "      <td>0</td>\n",
              "      <td>0</td>\n",
              "      <td>0</td>\n",
              "      <td>...</td>\n",
              "      <td>0</td>\n",
              "      <td>12</td>\n",
              "      <td>12</td>\n",
              "      <td>3</td>\n",
              "      <td>3</td>\n",
              "      <td>3</td>\n",
              "      <td>3</td>\n",
              "      <td>13</td>\n",
              "      <td>Generic</td>\n",
              "      <td>1</td>\n",
              "    </tr>\n",
              "    <tr>\n",
              "      <th>175339</th>\n",
              "      <td>175340</td>\n",
              "      <td>udp</td>\n",
              "      <td>INT</td>\n",
              "      <td>0.000009</td>\n",
              "      <td>114</td>\n",
              "      <td>0</td>\n",
              "      <td>254</td>\n",
              "      <td>0</td>\n",
              "      <td>0</td>\n",
              "      <td>0</td>\n",
              "      <td>...</td>\n",
              "      <td>0</td>\n",
              "      <td>30</td>\n",
              "      <td>30</td>\n",
              "      <td>30</td>\n",
              "      <td>30</td>\n",
              "      <td>30</td>\n",
              "      <td>14</td>\n",
              "      <td>30</td>\n",
              "      <td>Generic</td>\n",
              "      <td>1</td>\n",
              "    </tr>\n",
              "    <tr>\n",
              "      <th>175340</th>\n",
              "      <td>175341</td>\n",
              "      <td>udp</td>\n",
              "      <td>INT</td>\n",
              "      <td>0.000009</td>\n",
              "      <td>114</td>\n",
              "      <td>0</td>\n",
              "      <td>254</td>\n",
              "      <td>0</td>\n",
              "      <td>0</td>\n",
              "      <td>0</td>\n",
              "      <td>...</td>\n",
              "      <td>0</td>\n",
              "      <td>30</td>\n",
              "      <td>30</td>\n",
              "      <td>30</td>\n",
              "      <td>30</td>\n",
              "      <td>30</td>\n",
              "      <td>16</td>\n",
              "      <td>30</td>\n",
              "      <td>Generic</td>\n",
              "      <td>1</td>\n",
              "    </tr>\n",
              "  </tbody>\n",
              "</table>\n",
              "<p>175341 rows × 44 columns</p>\n",
              "</div>"
            ],
            "text/plain": [
              "            id proto state       dur  sbytes  dbytes  sttl  dttl  sloss  \\\n",
              "0            1   tcp   FIN  0.121478     258     172   252   254      0   \n",
              "1            2   tcp   FIN  0.649902     734   42014    62   252      2   \n",
              "2            3   tcp   FIN  1.623129     364   13186    62   252      1   \n",
              "3            4   tcp   FIN  1.681642     628     770    62   252      1   \n",
              "4            5   tcp   FIN  0.449454     534     268   254   252      2   \n",
              "...        ...   ...   ...       ...     ...     ...   ...   ...    ...   \n",
              "175336  175337   udp   INT  0.000009     114       0   254     0      0   \n",
              "175337  175338   tcp   FIN  0.505762     620     354   254   252      2   \n",
              "175338  175339   udp   INT  0.000009     114       0   254     0      0   \n",
              "175339  175340   udp   INT  0.000009     114       0   254     0      0   \n",
              "175340  175341   udp   INT  0.000009     114       0   254     0      0   \n",
              "\n",
              "        dloss  ... ct_ftp_cmd  ct_srv_src  ct_srv_dst  ct_dst_ltm  ct_src_ltm  \\\n",
              "0           0  ...          0           1           1           1           1   \n",
              "1          17  ...          0          43           6           1           1   \n",
              "2           6  ...          0           7           6           2           2   \n",
              "3           3  ...          1           1           1           2           2   \n",
              "4           1  ...          0          43          39           2           2   \n",
              "...       ...  ...        ...         ...         ...         ...         ...   \n",
              "175336      0  ...          0          24          24          24          24   \n",
              "175337      1  ...          0           1           1           1           1   \n",
              "175338      0  ...          0          12          12           3           3   \n",
              "175339      0  ...          0          30          30          30          30   \n",
              "175340      0  ...          0          30          30          30          30   \n",
              "\n",
              "        ct_src_dport_ltm  ct_dst_sport_ltm  ct_dst_src_ltm  attack_cat  label  \n",
              "0                      1                 1               1      Normal      0  \n",
              "1                      1                 1               2      Normal      0  \n",
              "2                      1                 1               3      Normal      0  \n",
              "3                      1                 1               3      Normal      0  \n",
              "4                      2                 1              40      Normal      0  \n",
              "...                  ...               ...             ...         ...    ...  \n",
              "175336                24                13              24     Generic      1  \n",
              "175337                 1                 1               2   Shellcode      1  \n",
              "175338                 3                 3              13     Generic      1  \n",
              "175339                30                14              30     Generic      1  \n",
              "175340                30                16              30     Generic      1  \n",
              "\n",
              "[175341 rows x 44 columns]"
            ]
          },
          "execution_count": 17,
          "metadata": {},
          "output_type": "execute_result"
        }
      ],
      "source": [
        "df"
      ]
    },
    {
      "cell_type": "markdown",
      "metadata": {
        "id": "M7K9dRzOmFEG"
      },
      "source": [
        "# 1. Exploratory Data Analysis\n",
        "\n",
        "Exploratory Data Analysis (EDA) is a crucial step in the data analysis process that involves examining and visualizing data sets to uncover patterns, trends, anomalies, and insights. It is the first step before applying more advanced statistical and machine learning techniques. EDA helps you to gain a deep understanding of the data you are working with, allowing you to make informed decisions and formulate hypotheses for further analysis."
      ]
    },
    {
      "cell_type": "markdown",
      "metadata": {
        "id": "w6tzpaCimFEG"
      },
      "source": [
        "## A. Data Understanding\n",
        "The objective of this section is for participants to understand the quality of the provided data. This includes:\n",
        "\n",
        "1. Data Size\n",
        "2. Statistics of Each Feature\n",
        "3. Outliers\n",
        "4. Correlation\n",
        "5. Distribution"
      ]
    },
    {
      "cell_type": "markdown",
      "metadata": {
        "id": "96TcnbB9mFEG"
      },
      "source": [
        "### Step 1\n",
        "\n",
        "Find the following:\n",
        "\n",
        "1. The size of the data (instances and features).\n",
        "2. The data types of each feature.\n",
        "3. The number of unique values for categorical features.\n",
        "4. The minimum, maximum, mean, median, and standard deviation values for non-categorical features.\n",
        "5. Explain the significance of gathering the first four pieces of information."
      ]
    },
    {
      "cell_type": "code",
      "execution_count": null,
      "metadata": {
        "id": "TaELJ0atmFEG"
      },
      "outputs": [],
      "source": [
        "# Write your code here"
      ]
    },
    {
      "cell_type": "markdown",
      "metadata": {
        "id": "sNRFMQoumFEG"
      },
      "source": [
        "### Step 2\n",
        "\n",
        "Find the following:\n",
        "\n",
        "1. Missing values for each feature.\n",
        "2. Outliers for each feature (use the methods you are familiar with).\n",
        "3. Why is it necessary to identify missing values and outliers?"
      ]
    },
    {
      "cell_type": "code",
      "execution_count": null,
      "metadata": {
        "id": "caSC8wnpmFEH"
      },
      "outputs": [],
      "source": [
        "# Write your code here"
      ]
    },
    {
      "cell_type": "markdown",
      "metadata": {
        "id": "nl_Xcxn-mFEH"
      },
      "source": [
        "### Step 3\n",
        "\n",
        "Find the following:\n",
        "\n",
        "1. Correlations between features.\n",
        "2. Visualize the distribution of each feature (categorical and continuous).\n",
        "3. Visualize the correlation between features and the target variable.\n",
        "4. Explain the significance of understanding feature distributions and correlations."
      ]
    },
    {
      "cell_type": "code",
      "execution_count": null,
      "metadata": {
        "id": "y7uzcuWgmFEH"
      },
      "outputs": [],
      "source": [
        "# Write your code here"
      ]
    },
    {
      "cell_type": "markdown",
      "metadata": {
        "id": "tGS62xxlmFEH"
      },
      "source": [
        "## B. Data Insights\n",
        "\n",
        "The objective of this section is for participants to understand how to formulate and get many insights from the given data so that we can improve the model performance. Given example questions:\n",
        "\n",
        "1. What are the most common protocols (proto) in the dataset, and are certain protocols more associated with specific attack categories?\n",
        "2. Are there significant differences in the values of network characteristics such as sload, sload, sbytes, and dbytes between attack and normal records?\n",
        "3. How does TCP-setup-related features vary, such as tcprtt, synack, and ackdat, across normal records and each type of attack records?"
      ]
    },
    {
      "cell_type": "markdown",
      "metadata": {
        "id": "ngKJAIjHmFEH"
      },
      "source": [
        "### Step 1\n",
        "\n",
        "Answer the three example questions by visualizing and explaining the insights for each question. Add markdown texts to explain the visualizations."
      ]
    },
    {
      "cell_type": "markdown",
      "metadata": {
        "id": "gQBlE_O0mFEH"
      },
      "source": [
        "#### 1. What are the most common protocols (proto) in the dataset, and are certain protocols more associated with specific attack categories?"
      ]
    },
    {
      "cell_type": "code",
      "execution_count": null,
      "metadata": {
        "id": "wVaopwwPmFEH"
      },
      "outputs": [],
      "source": [
        "# Write your code here"
      ]
    },
    {
      "cell_type": "markdown",
      "metadata": {
        "id": "l-fb-3klmFEI"
      },
      "source": [
        "#### 2. Are there any significant differences in the values of network characteristics such as Sload, Dload, sbytes, and dbytes between attack and normal records?"
      ]
    },
    {
      "cell_type": "code",
      "execution_count": null,
      "metadata": {
        "id": "23RcHcP3mFEI"
      },
      "outputs": [],
      "source": [
        "# Write your code here"
      ]
    },
    {
      "cell_type": "markdown",
      "metadata": {
        "id": "OIKBiJrCmFEI"
      },
      "source": [
        "#### 3. How does TCP-setup-related features vary, such as tcprtt, synack, and ackdat, across normal records and each type of attack records?"
      ]
    },
    {
      "cell_type": "code",
      "execution_count": null,
      "metadata": {
        "id": "1TSAakrmmFEI",
        "trusted": true
      },
      "outputs": [],
      "source": [
        "# Write your code here"
      ]
    },
    {
      "cell_type": "markdown",
      "metadata": {
        "id": "TLO0_HBwmFEI"
      },
      "source": [
        "### Step 2\n",
        "\n",
        "Try to formulate five other new questions and answer them with the methods used before."
      ]
    },
    {
      "cell_type": "markdown",
      "metadata": {
        "id": "m8Xzww7lmFEI"
      },
      "source": [
        "#### 4. Your first question (replace this heading)"
      ]
    },
    {
      "cell_type": "code",
      "execution_count": null,
      "metadata": {
        "id": "zkaWpkSwmFEI"
      },
      "outputs": [],
      "source": [
        "# Write your code here"
      ]
    },
    {
      "cell_type": "markdown",
      "metadata": {
        "id": "8fkn9jVWmFEI"
      },
      "source": [
        "#### 5. Your second question (replace this heading)"
      ]
    },
    {
      "cell_type": "code",
      "execution_count": null,
      "metadata": {
        "id": "uEg3UUM4mFEI"
      },
      "outputs": [],
      "source": [
        "# Write your code here"
      ]
    },
    {
      "cell_type": "markdown",
      "metadata": {
        "id": "GD-Mq9t2mFEJ"
      },
      "source": [
        "#### 6. Your third question (replace this heading)"
      ]
    },
    {
      "cell_type": "code",
      "execution_count": null,
      "metadata": {
        "id": "x8j9ErzJmFEJ",
        "trusted": true
      },
      "outputs": [],
      "source": [
        "# Write your code here"
      ]
    },
    {
      "cell_type": "markdown",
      "metadata": {
        "id": "i2iqJTl9mFEJ"
      },
      "source": [
        "#### 7. Your fourth question (replace this heading)"
      ]
    },
    {
      "cell_type": "code",
      "execution_count": null,
      "metadata": {
        "execution": {
          "iopub.execute_input": "2024-11-05T04:10:12.279152Z",
          "iopub.status.busy": "2024-11-05T04:10:12.27873Z",
          "iopub.status.idle": "2024-11-05T04:10:12.311421Z",
          "shell.execute_reply": "2024-11-05T04:10:12.310572Z",
          "shell.execute_reply.started": "2024-11-05T04:10:12.279108Z"
        },
        "id": "S9HubN-8mFEJ",
        "trusted": true
      },
      "outputs": [],
      "source": [
        "# Write your code here"
      ]
    },
    {
      "cell_type": "markdown",
      "metadata": {
        "id": "a8IdPTpsmFEJ"
      },
      "source": [
        "#### 8. Your fifth question (replace this heading)"
      ]
    },
    {
      "cell_type": "code",
      "execution_count": null,
      "metadata": {
        "id": "0NwSQ3a_mFEJ",
        "trusted": true
      },
      "outputs": [],
      "source": [
        "# Write your code here"
      ]
    }
  ],
  "metadata": {
    "colab": {
      "provenance": []
    },
    "kaggle": {
      "accelerator": "none",
      "dataSources": [
        {
          "databundleVersionId": 6475798,
          "sourceId": 60002,
          "sourceType": "competition"
        }
      ],
      "dockerImageVersionId": 30553,
      "isGpuEnabled": false,
      "isInternetEnabled": true,
      "language": "python",
      "sourceType": "notebook"
    },
    "kernelspec": {
      "display_name": "Python 3",
      "language": "python",
      "name": "python3"
    },
    "language_info": {
      "codemirror_mode": {
        "name": "ipython",
        "version": 3
      },
      "file_extension": ".py",
      "mimetype": "text/x-python",
      "name": "python",
      "nbconvert_exporter": "python",
      "pygments_lexer": "ipython3",
      "version": "3.11.2"
    }
  },
  "nbformat": 4,
  "nbformat_minor": 0
}
